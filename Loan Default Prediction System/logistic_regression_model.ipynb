{
 "cells": [
  {
   "cell_type": "code",
   "execution_count": 13,
   "id": "f411e254-357e-4fe6-8590-ab5f204a4e66",
   "metadata": {},
   "outputs": [],
   "source": [
    "# ========================\n",
    "# 1. Import libraries\n",
    "# ========================\n",
    "import pandas as pd\n",
    "import joblib\n",
    "from sklearn.model_selection import train_test_split\n",
    "from sklearn.preprocessing import StandardScaler\n",
    "from sklearn.metrics import accuracy_score, confusion_matrix, classification_report, roc_auc_score\n",
    "\n",
    "# ========================\n",
    "# 2. Load dataset\n",
    "# ========================\n",
    "df = pd.read_csv(\"loan_synthetic_dataset.csv\")\n",
    "\n",
    "# Drop ID & probability column\n",
    "df_model = df.drop(['loan_id', 'default_prob'], axis=1)\n",
    "\n",
    "# One-hot encode categorical variables\n",
    "df_model = pd.get_dummies(df_model, columns=['gender','education','purpose'], drop_first=True)\n",
    "\n",
    "# Split features & target\n",
    "X = df_model.drop('default', axis=1)\n",
    "y = df_model['default']\n",
    "\n",
    "# Train-test split\n",
    "X_train, X_test, y_train, y_test = train_test_split(\n",
    "    X, y, test_size=0.2, random_state=42, stratify=y\n",
    ")\n",
    "\n",
    "# Standard scaling\n",
    "scaler = StandardScaler()\n",
    "X_train = scaler.fit_transform(X_train)\n",
    "X_test = scaler.transform(X_test)\n"
   ]
  },
  {
   "cell_type": "code",
   "execution_count": 14,
   "id": "4122b001-aea8-4ae5-9a68-52652f23aeaa",
   "metadata": {},
   "outputs": [],
   "source": [
    "# ========================\n",
    "# 3. Load trained model\n",
    "# ========================\n",
    "model = joblib.load(\"logistic_regression_model.pkl\")\n"
   ]
  },
  {
   "cell_type": "code",
   "execution_count": 15,
   "id": "da4a22e3-f467-4359-aff2-a6e3fe92e0aa",
   "metadata": {},
   "outputs": [
    {
     "name": "stdout",
     "output_type": "stream",
     "text": [
      "✅ Model Performance:\n",
      "Accuracy: 0.9821\n",
      "ROC-AUC: 0.9967\n",
      "\n",
      "Classification Report:\n",
      "               precision    recall  f1-score   support\n",
      "\n",
      "           0       0.99      0.99      0.99      2160\n",
      "           1       0.93      0.88      0.91       240\n",
      "\n",
      "    accuracy                           0.98      2400\n",
      "   macro avg       0.96      0.94      0.95      2400\n",
      "weighted avg       0.98      0.98      0.98      2400\n",
      "\n"
     ]
    },
    {
     "data": {
      "image/png": "[encoded data removed]",
      "text/plain": [
       "<Figure size 640x480 with 2 Axes>"
      ]
     },
     "metadata": {},
     "output_type": "display_data"
    }
   ],
   "source": [
    "# ========================\n",
    "# 4. Predictions\n",
    "# ========================\n",
    "y_pred = model.predict(X_test)\n",
    "y_prob = model.predict_proba(X_test)[:,1]   # probability of default\n",
    "\n",
    "# Evaluation metrics\n",
    "acc = accuracy_score(y_test, y_pred)\n",
    "roc = roc_auc_score(y_test, y_prob)\n",
    "\n",
    "print(\"✅ Model Performance:\")\n",
    "print(\"Accuracy:\", round(acc,4))\n",
    "print(\"ROC-AUC:\", round(roc,4))\n",
    "print(\"\\nClassification Report:\\n\", classification_report(y_test, y_pred))\n",
    "\n",
    "# Confusion Matrix\n",
    "import seaborn as sns\n",
    "import matplotlib.pyplot as plt\n",
    "\n",
    "cm = confusion_matrix(y_test, y_pred)\n",
    "sns.heatmap(cm, annot=True, fmt=\"d\", cmap=\"Blues\")\n",
    "plt.title(\"Confusion Matrix\")\n",
    "plt.xlabel(\"Predicted\")\n",
    "plt.ylabel(\"Actual\")\n",
    "plt.show()\n"
   ]
  },
  {
   "cell_type": "code",
   "execution_count": 16,
   "id": "a9a7e518-f0df-47f8-b124-339c26a2375f",
   "metadata": {},
   "outputs": [
    {
     "name": "stdout",
     "output_type": "stream",
     "text": [
      "Prediction (0=No Default, 1=Default): 0\n",
      "Default Probability: 0.0\n"
     ]
    }
   ],
   "source": [
    "# ========================\n",
    "# 5. Test with New Data (Example Prediction)\n",
    "# ========================\n",
    "\n",
    "# Example borrower details\n",
    "new_data = pd.DataFrame([{\n",
    "    'age': 35,\n",
    "    'gender': 'Male',\n",
    "    'education': 'Bachelors',\n",
    "    'employment_years': 5,\n",
    "    'loan_amount': 20000,\n",
    "    'term_months': 60,\n",
    "    'interest_rate': 12,\n",
    "    'installment': 450,\n",
    "    'purpose': 'Car',\n",
    "    'annual_income': 55000,\n",
    "    'dti': 0.25,\n",
    "    'credit_history_length': 6,\n",
    "    'open_accounts': 5\n",
    "}])\n",
    "\n",
    "# One-hot encoding (align with training columns)\n",
    "new_data = pd.get_dummies(new_data, columns=['gender','education','purpose'], drop_first=True)\n",
    "new_data = new_data.reindex(columns=X.columns, fill_value=0)\n",
    "\n",
    "# Scale\n",
    "new_data_scaled = scaler.transform(new_data)\n",
    "\n",
    "# Predict\n",
    "prediction = model.predict(new_data_scaled)[0]\n",
    "probability = model.predict_proba(new_data_scaled)[0][1]\n",
    "\n",
    "print(\"Prediction (0=No Default, 1=Default):\", prediction)\n",
    "print(\"Default Probability:\", round(probability,3))\n"
   ]
  },
  {
   "cell_type": "code",
   "execution_count": 17,
   "id": "d9d6e4f4-7e30-4cc1-a67c-d0e542754502",
   "metadata": {},
   "outputs": [
    {
     "data": {
      "text/plain": [
       "['model_columns.pkl']"
      ]
     },
     "execution_count": 17,
     "metadata": {},
     "output_type": "execute_result"
    }
   ],
   "source": [
    "# Save scaler & feature columns during training\n",
    "joblib.dump(scaler, \"scaler.pkl\")\n",
    "joblib.dump(X.columns, \"model_columns.pkl\")"
   ]
  },
  {
   "cell_type": "code",
   "execution_count": null,
   "id": "be55d908-4d18-4407-8652-bfc4859fccfb",
   "metadata": {},
   "outputs": [],
   "source": []
  }
 ],
 "metadata": {
  "kernelspec": {
   "display_name": "Python 3 (ipykernel)",
   "language": "python",
   "name": "python3"
  },
  "language_info": {
   "codemirror_mode": {
    "name": "ipython",
    "version": 3
   },
   "file_extension": ".py",
   "mimetype": "text/x-python",
   "name": "python",
   "nbconvert_exporter": "python",
   "pygments_lexer": "ipython3",
   "version": "3.13.5"
  }
 },
 "nbformat": 4,
 "nbformat_minor": 5
}
